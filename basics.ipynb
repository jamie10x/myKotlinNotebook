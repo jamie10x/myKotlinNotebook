{
 "cells": [
  {
   "metadata": {},
   "cell_type": "markdown",
   "source": "# Kotlin has several built-in data types, including:\n"
  },
  {
   "metadata": {
    "ExecuteTime": {
     "end_time": "2025-09-27T12:26:04.158083Z",
     "start_time": "2025-09-27T12:26:04.081353Z"
    }
   },
   "cell_type": "code",
   "source": [
    "val whole: Int = 10\n",
    "val fractional: Double = 10.1\n",
    "val words: String = \"My name is Jamie\"\n",
    "val trureOrFalse: Boolean = true\n",
    "val cahracter: Char = 'J'\n",
    "val multilineText: String = \"\"\"\n",
    "    This is a\n",
    "    multiline\n",
    "    string.\n",
    "\"\"\".trimIndent()\n",
    "println(\"Int: $whole, Double: $fractional, String: $words, Boolean: $trureOrFalse, Char: $cahracter\")\n",
    "println(multilineText)"
   ],
   "outputs": [
    {
     "name": "stdout",
     "output_type": "stream",
     "text": [
      "Int: 10, Double: 10.1, String: My name is Jamie, Boolean: true, Char: J\n",
      "This is a\n",
      "multiline\n",
      "string.\n"
     ]
    }
   ],
   "execution_count": 4
  },
  {
   "metadata": {
    "ExecuteTime": {
     "end_time": "2025-09-19T20:48:14.731747Z",
     "start_time": "2025-09-19T20:48:14.676352Z"
    }
   },
   "cell_type": "code",
   "source": [
    "val n = whole + fractional\n",
    "println(n)"
   ],
   "outputs": [
    {
     "name": "stdout",
     "output_type": "stream",
     "text": [
      "20.1\n"
     ]
    }
   ],
   "execution_count": 3
  },
  {
   "metadata": {},
   "cell_type": "markdown",
   "source": "## A function is like a small program that has its own name, and can be executed (invoked) by calling that name from another function."
  },
  {
   "metadata": {
    "ExecuteTime": {
     "end_time": "2025-09-19T20:54:07.050923Z",
     "start_time": "2025-09-19T20:54:06.984876Z"
    }
   },
   "cell_type": "code",
   "source": [
    "fun multiplyByTwo(x: Int): Int {\n",
    "    println(\"$x is multiplied by two is :\")\n",
    "    return x * 2\n",
    "}\n",
    "\n",
    "val resut = multiplyByTwo(4)\n",
    "println(resut)"
   ],
   "outputs": [
    {
     "name": "stdout",
     "output_type": "stream",
     "text": [
      "4 is multiplied by two is :\n",
      "8\n"
     ]
    }
   ],
   "execution_count": 4
  },
  {
   "metadata": {
    "ExecuteTime": {
     "end_time": "2025-09-21T12:38:54.051733Z",
     "start_time": "2025-09-21T12:38:53.991896Z"
    }
   },
   "cell_type": "code",
   "source": [
    "fun isOpen(hour: Int) {\n",
    "    val open = 8\n",
    "    val closed = 17\n",
    "    println(\"Opening time from $open to $closed \")\n",
    "    val status = if(hour > open && hour < closed) true else false\n",
    "    println(\"Open: $status\")\n",
    "}\n",
    "\n",
    "isOpen(14)"
   ],
   "outputs": [
    {
     "name": "stdout",
     "output_type": "stream",
     "text": [
      "Opening time from 8 to 17 \n",
      "Open: true\n"
     ]
    }
   ],
   "execution_count": 5
  },
  {
   "metadata": {
    "ExecuteTime": {
     "end_time": "2025-09-21T12:52:35.119277Z",
     "start_time": "2025-09-21T12:52:35.053548Z"
    }
   },
   "cell_type": "code",
   "source": [
    "fun condition(i: Int) = i < 100 // [1]\n",
    "    var i = 0\n",
    "    while (condition(i)) { // [2]\n",
    "        print(\".\")\n",
    "                i += 10 // [3]\n",
    "    }"
   ],
   "outputs": [
    {
     "name": "stdout",
     "output_type": "stream",
     "text": [
      ".........."
     ]
    }
   ],
   "execution_count": 8
  },
  {
   "metadata": {
    "ExecuteTime": {
     "end_time": "2025-09-21T12:58:35.108568Z",
     "start_time": "2025-09-21T12:58:35.044804Z"
    }
   },
   "cell_type": "code",
   "source": [
    "var n = 10\n",
    "val m = 2\n",
    "println(n)\n",
    "\n",
    "while(n > m) {\n",
    "    n -= m\n",
    "    println(\" - $n \")\n",
    "}\n",
    "println(\" = $n \")"
   ],
   "outputs": [
    {
     "name": "stdout",
     "output_type": "stream",
     "text": [
      "10\n",
      " - 8 \n",
      " - 6 \n",
      " - 4 \n",
      " - 2 \n",
      " = 2 \n"
     ]
    }
   ],
   "execution_count": 11
  },
  {
   "metadata": {
    "ExecuteTime": {
     "end_time": "2025-09-21T13:00:59.295734Z",
     "start_time": "2025-09-21T13:00:59.258617Z"
    }
   },
   "cell_type": "code",
   "source": [
    "var i = 0\n",
    "while(i < 6) {\n",
    "    i++\n",
    "    println(\"$i\")\n",
    "}"
   ],
   "outputs": [
    {
     "name": "stdout",
     "output_type": "stream",
     "text": [
      "1\n",
      "2\n",
      "3\n",
      "4\n",
      "5\n",
      "6\n"
     ]
    }
   ],
   "execution_count": 14
  },
  {
   "metadata": {
    "ExecuteTime": {
     "end_time": "2025-09-21T13:03:38.311261Z",
     "start_time": "2025-09-21T13:03:38.279307Z"
    }
   },
   "cell_type": "code",
   "source": [
    "var i = 11\n",
    "do {\n",
    "    i++\n",
    "    println(\".\")\n",
    "} while(i < 10)"
   ],
   "outputs": [
    {
     "name": "stdout",
     "output_type": "stream",
     "text": [
      ".\n"
     ]
    }
   ],
   "execution_count": 17
  },
  {
   "metadata": {},
   "cell_type": "markdown",
   "source": "### Difference between while and do while loops are. While loop's is executed when the condition is met at first otherwise it just does not start ! Meanwhile do while loop's body is executed first once despite the while condition is true or false."
  },
  {
   "metadata": {
    "ExecuteTime": {
     "end_time": "2025-09-22T11:07:21.195139Z",
     "start_time": "2025-09-22T11:07:20.969633Z"
    }
   },
   "cell_type": "code",
   "source": [
    "fun showRange(r: IntProgression) {\n",
    "    for(i in r) {\n",
    "        println(\"$i \")\n",
    "    }\n",
    "    println(\"$r \")\n",
    "    println()\n",
    "}\n",
    "showRange(1..5)\n",
    "showRange(0 until 5)\n",
    "showRange(5 downTo 1)\n",
    "showRange(0..9 step 2)\n",
    "showRange(0 until 10 step 3)"
   ],
   "outputs": [
    {
     "name": "stdout",
     "output_type": "stream",
     "text": [
      "1 \n",
      "2 \n",
      "3 \n",
      "4 \n",
      "5 \n",
      "1..5 \n",
      "\n",
      "0 \n",
      "1 \n",
      "2 \n",
      "3 \n",
      "4 \n",
      "0..4 \n",
      "\n",
      "5 \n",
      "4 \n",
      "3 \n",
      "2 \n",
      "1 \n",
      "5 downTo 1 step 1 \n",
      "\n",
      "0 \n",
      "2 \n",
      "4 \n",
      "6 \n",
      "8 \n",
      "0..8 step 2 \n",
      "\n",
      "0 \n",
      "3 \n",
      "6 \n",
      "9 \n",
      "0..9 step 3 \n",
      "\n"
     ]
    }
   ],
   "execution_count": 1
  },
  {
   "metadata": {
    "ExecuteTime": {
     "end_time": "2025-09-26T11:25:27.251270Z",
     "start_time": "2025-09-26T11:25:27.165379Z"
    }
   },
   "cell_type": "code",
   "source": [
    "for(j in 'a'..'z' ) {\n",
    "    println(\"$j\")\n",
    "}\n",
    "\n"
   ],
   "outputs": [
    {
     "name": "stdout",
     "output_type": "stream",
     "text": [
      "a\n",
      "b\n",
      "c\n",
      "d\n",
      "e\n",
      "f\n",
      "g\n",
      "h\n",
      "i\n",
      "j\n",
      "k\n",
      "l\n",
      "m\n",
      "n\n",
      "o\n",
      "p\n",
      "q\n",
      "r\n",
      "s\n",
      "t\n",
      "u\n",
      "v\n",
      "w\n",
      "x\n",
      "y\n",
      "z\n"
     ]
    }
   ],
   "execution_count": 3
  },
  {
   "metadata": {
    "ExecuteTime": {
     "end_time": "2025-09-27T12:36:48.920853Z",
     "start_time": "2025-09-27T12:36:48.862382Z"
    }
   },
   "cell_type": "code",
   "source": [
    "val numbers = listOf(1, 2, 3)\n",
    "var result = \"\"\n",
    "for(i in numbers) {\n",
    "    result += i\n",
    "}\n",
    "println(result)\n",
    "println(numbers[1])"
   ],
   "outputs": [
    {
     "name": "stdout",
     "output_type": "stream",
     "text": [
      "123\n",
      "2\n"
     ]
    }
   ],
   "execution_count": 16
  },
  {
   "metadata": {
    "ExecuteTime": {
     "end_time": "2025-09-27T12:37:06.277327Z",
     "start_time": "2025-09-27T12:37:06.204637Z"
    }
   },
   "cell_type": "code",
   "source": [
    "val doubles = listOf(1.1 , 2.2, 3.3, 4.4)\n",
    "println(doubles.sum())\n",
    "\n",
    "val strings = listOf(\"hello\", \"bye\", \"welcome\", \"lets go\")\n",
    "println(strings.reversed())\n",
    "println(strings.sorted())\n",
    "println(strings.first())\n",
    "println(strings.takeLast(3))\n",
    "\n",
    "\n",
    "val numbers2: List<Int> = listOf(1, 2, 3)\n",
    "val strings2: List<String> = listOf(\"one\", \"two\", \"three\")\n"
   ],
   "outputs": [
    {
     "name": "stdout",
     "output_type": "stream",
     "text": [
      "11.0\n",
      "[lets go, welcome, bye, hello]\n",
      "[bye, hello, lets go, welcome]\n",
      "hello\n",
      "[bye, welcome, lets go]\n"
     ]
    },
    {
     "data": {
      "text/plain": [
       "true"
      ]
     },
     "execution_count": 18,
     "metadata": {},
     "output_type": "execute_result"
    }
   ],
   "execution_count": 18
  },
  {
   "metadata": {},
   "cell_type": "markdown",
   "source": "## Lists"
  },
  {
   "metadata": {
    "ExecuteTime": {
     "end_time": "2025-09-27T12:47:33.817002Z",
     "start_time": "2025-09-27T12:47:33.778087Z"
    }
   },
   "cell_type": "code",
   "source": [
    "fun inferred(p: Char, q: Char) = listOf(p,q)\n",
    "\n",
    "fun explicite(p: Char, q: Char): List<Char> = listOf(p,q)\n",
    "\n",
    "inferred('a', 'b')\n",
    "explicite('c', 'd')"
   ],
   "outputs": [
    {
     "data": {
      "text/plain": [
       "[c, d]"
      ]
     },
     "execution_count": 25,
     "metadata": {},
     "output_type": "execute_result"
    }
   ],
   "execution_count": 25
  },
  {
   "metadata": {},
   "cell_type": "markdown",
   "source": "## Mutable lists"
  },
  {
   "metadata": {
    "ExecuteTime": {
     "end_time": "2025-09-27T12:54:37.116858Z",
     "start_time": "2025-09-27T12:54:37.063338Z"
    }
   },
   "cell_type": "code",
   "source": [
    "val mutableList = mutableListOf<Int>()\n",
    "\n",
    "mutableList.add(1)\n",
    "mutableList.addAll(listOf(3, 5, 6))\n",
    "mutableList += 5\n",
    "mutableList += listOf(11, 23)\n",
    "mutableList.removeFirst()\n",
    "mutableList.removeLast()\n",
    "println(mutableList)"
   ],
   "outputs": [
    {
     "name": "stdout",
     "output_type": "stream",
     "text": [
      "[3, 5, 6, 5, 11]\n"
     ]
    }
   ],
   "execution_count": 34
  },
  {
   "metadata": {},
   "cell_type": "markdown",
   "source": "## variable argument lists"
  },
  {
   "metadata": {
    "ExecuteTime": {
     "end_time": "2025-09-28T07:33:48.010192Z",
     "start_time": "2025-09-28T07:33:47.974233Z"
    }
   },
   "cell_type": "code",
   "source": [
    "fun v(s: String, vararg d: Double) {}\n",
    "    v(\"abc\"\n",
    "        , 1.0, 2.0)\n",
    "    v(\"def\"\n",
    "        , 1.0, 2.0, 3.0, 4.0)\n",
    "    v(\"ghi\"\n",
    "        , 1.0, 2.0, 3.0, 4.0, 5.0, 6.0)"
   ],
   "outputs": [],
   "execution_count": 13
  },
  {
   "metadata": {
    "ExecuteTime": {
     "end_time": "2025-09-28T07:40:42.308143Z",
     "start_time": "2025-09-28T07:40:42.232947Z"
    }
   },
   "cell_type": "code",
   "source": [
    "fun sum(vararg numbers: Int): Int {\n",
    "    var total = 0\n",
    "    for (n in numbers) {\n",
    "        total += n\n",
    "    }\n",
    "    return total\n",
    "}\n",
    "val array =  intArrayOf(3,5)\n",
    "\n",
    "println(sum(1, 2, 3, *array, 6))\n",
    "\n",
    "val list = listOf(9,10,11)\n",
    "sum(*list.toIntArray())\n"
   ],
   "outputs": [
    {
     "name": "stdout",
     "output_type": "stream",
     "text": [
      "20\n"
     ]
    },
    {
     "data": {
      "text/plain": [
       "30"
      ]
     },
     "execution_count": 18,
     "metadata": {},
     "output_type": "execute_result"
    }
   ],
   "execution_count": 18
  },
  {
   "metadata": {
    "ExecuteTime": {
     "end_time": "2025-09-28T07:48:11.940032Z",
     "start_time": "2025-09-28T07:48:11.885810Z"
    }
   },
   "cell_type": "code",
   "source": [
    "fun first(vararg numbers: Int): String {\n",
    "    var result = \"\"\n",
    "    for(i in numbers) {\n",
    "        result += \"[$i]\"\n",
    "    }\n",
    "    return result\n",
    "}\n",
    "\n",
    "fun second(vararg numbers: Int) =\n",
    "    first(* numbers)\n",
    "\n",
    "println(second(1,2,3))"
   ],
   "outputs": [
    {
     "name": "stdout",
     "output_type": "stream",
     "text": [
      "[1][2][3]\n"
     ]
    }
   ],
   "execution_count": 20
  },
  {
   "metadata": {
    "ExecuteTime": {
     "end_time": "2025-09-28T07:52:10.630952Z",
     "start_time": "2025-09-28T07:52:10.591312Z"
    }
   },
   "cell_type": "code",
   "source": [
    "fun commandlineArgs(args: Array<String>) {\n",
    "    for (arg in args) {\n",
    "        println(arg)\n",
    "    }\n",
    "}\n"
   ],
   "outputs": [],
   "execution_count": 23
  },
  {
   "metadata": {},
   "cell_type": "markdown",
   "source": "# Sets"
  },
  {
   "metadata": {
    "ExecuteTime": {
     "end_time": "2025-09-28T08:12:42.369411Z",
     "start_time": "2025-09-28T08:12:42.180719Z"
    }
   },
   "cell_type": "code",
   "source": [
    "    val intSet = setOf(1, 1, 2, 3, 9, 9, 4)\n",
    "// No duplicates:\n",
    "    intSet == setOf(1, 2, 3, 4, 9)\n",
    "// Element order is unimportant:\n",
    "    setOf(1, 2) == setOf(2, 1)\n",
    "// Set membership:\n",
    "    (9 in intSet) == true\n",
    "    (99 in intSet) == false\n",
    "    intSet.contains(9) == true\n",
    "    intSet.contains(99) == false\n",
    "// Does this set contain another set?\n",
    "    intSet.containsAll(setOf(1, 9, 2)) == true\n",
    "// Set union:\n",
    "    intSet.union(setOf(3, 4, 5, 6)) ==\n",
    "            setOf(1, 2, 3, 4, 5, 6, 9)\n",
    "// Set intersection:\n",
    "    intSet intersect setOf(0, 1, 2, 7, 8) ==\n",
    "            setOf(1, 2)\n",
    "// Set difference:\n",
    "    intSet subtract setOf(0, 1, 9, 10) ==\n",
    "            setOf(2, 3, 4)\n",
    "    intSet - setOf(0, 1, 9, 10) == setOf(2, 3, 4)\n",
    "\n",
    "\n",
    "val list = listOf(3, 3, 2, 1, 2)\n",
    "list.toSet() == setOf(1, 2, 3)\n",
    "println(list.distinct())\n",
    "println(list.distinct().sorted().toSet().contains(7))\n",
    "\"abbcc\"\n",
    "    .toSet() == setOf('a',\n",
    "    'b',\n",
    "    'c')"
   ],
   "outputs": [
    {
     "name": "stdout",
     "output_type": "stream",
     "text": [
      "[3, 2, 1]\n",
      "false\n"
     ]
    },
    {
     "data": {
      "text/plain": [
       "true"
      ]
     },
     "execution_count": 34,
     "metadata": {},
     "output_type": "execute_result"
    }
   ],
   "execution_count": 34
  },
  {
   "metadata": {},
   "cell_type": "markdown",
   "source": "## maps"
  },
  {
   "metadata": {
    "ExecuteTime": {
     "end_time": "2025-09-28T08:18:06.547157Z",
     "start_time": "2025-09-28T08:18:06.439034Z"
    }
   },
   "cell_type": "code",
   "source": [
    "val map = mapOf(\n",
    "    1 to \"one\",\n",
    "    2 to \"two\",\n",
    "    3 to \"three\"\n",
    ")\n",
    "\n",
    "println(map.entries)\n",
    "println(map.keys)\n",
    "println(map.values)\n",
    "println(map.size)\n",
    "println(map[3])\n",
    "println(map.get(1))\n",
    "println(map.forEach { it })\n",
    "\n",
    "val mutableMap = mutableMapOf(\n",
    "    5 to \"five\",\n",
    "    6 to \"six\"\n",
    ")\n",
    "\n",
    "mutableMap += 7 to \"seven\"\n",
    "mutableMap[8] = \"eight\"\n",
    "println(map.getOrDefault(4, \"Four\"))\n",
    "println(mutableMap)\n"
   ],
   "outputs": [
    {
     "name": "stdout",
     "output_type": "stream",
     "text": [
      "[1=one, 2=two, 3=three]\n",
      "[1, 2, 3]\n",
      "[one, two, three]\n",
      "3\n",
      "three\n",
      "one\n",
      "kotlin.Unit\n",
      "two\n",
      "{5=five, 6=six, 7=seven, 8=eight}\n"
     ]
    }
   ],
   "execution_count": 41
  },
  {
   "metadata": {},
   "cell_type": "code",
   "outputs": [],
   "execution_count": null,
   "source": [
    "class Contact(\n",
    "    val name: String,\n",
    "    val phone: String\n",
    ") {\n",
    "    override fun toString(): String {\n",
    "        return \"Contact('$name','$phone')\"\n",
    "    }\n",
    "}\n",
    "    val miffy = Contact(\"Miffy\",\"1-234-567890\")\n",
    "    val cleo = Contact(\"Cleo\",\"1-234-567890\")\n",
    "    val contacts = mapOf(\n",
    "        miffy.phone to miffy,\n",
    "        cleo.phone to cleo)\n",
    "    contacts[\"1-234-567890\"] == miffy\n",
    "    contacts[\"1-111-111111\"] == null"
   ]
  }
 ],
 "metadata": {
  "kernelspec": {
   "display_name": "Kotlin",
   "language": "kotlin",
   "name": "kotlin"
  },
  "language_info": {
   "name": "kotlin",
   "version": "2.2.20-Beta2",
   "mimetype": "text/x-kotlin",
   "file_extension": ".kt",
   "pygments_lexer": "kotlin",
   "codemirror_mode": "text/x-kotlin",
   "nbconvert_exporter": ""
  }
 },
 "nbformat": 4,
 "nbformat_minor": 0
}
