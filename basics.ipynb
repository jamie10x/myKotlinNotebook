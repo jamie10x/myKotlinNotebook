{
 "cells": [
  {
   "metadata": {},
   "cell_type": "markdown",
   "source": "# Kotlin has several built-in data types, including:\n"
  },
  {
   "metadata": {
    "ExecuteTime": {
     "end_time": "2025-09-19T20:47:57.860813Z",
     "start_time": "2025-09-19T20:47:57.772064Z"
    }
   },
   "cell_type": "code",
   "source": [
    "val whole: Int = 10\n",
    "val fractional: Double = 10.1\n",
    "val words: String = \"My name is Jamie\"\n",
    "val trureOrFalse: Boolean = true\n",
    "val cahracter: Char = 'J'\n",
    "val multilineText: String = \"\"\"\n",
    "    This is a\n",
    "    multiline\n",
    "    string.\n",
    "\"\"\".trimIndent()\n",
    "println(\"Int: $whole, Double: $freactitional, String: $words, Boolean: $trureOrFalse, Char: $cahracter\")\n",
    "println(multilineText)"
   ],
   "outputs": [
    {
     "name": "stdout",
     "output_type": "stream",
     "text": [
      "Int: 10, Double: 10.1, String: My name is Jamie, Boolean: true, Char: J\n",
      "This is a\n",
      "multiline\n",
      "string.\n"
     ]
    }
   ],
   "execution_count": 2
  },
  {
   "metadata": {
    "ExecuteTime": {
     "end_time": "2025-09-19T20:48:14.731747Z",
     "start_time": "2025-09-19T20:48:14.676352Z"
    }
   },
   "cell_type": "code",
   "source": [
    "val n = whole + fractional\n",
    "println(n)"
   ],
   "outputs": [
    {
     "name": "stdout",
     "output_type": "stream",
     "text": [
      "20.1\n"
     ]
    }
   ],
   "execution_count": 3
  },
  {
   "metadata": {},
   "cell_type": "markdown",
   "source": "## A function is like a small program that has its own name, and can be executed (invoked) by calling that name from another function."
  },
  {
   "metadata": {
    "ExecuteTime": {
     "end_time": "2025-09-19T20:54:07.050923Z",
     "start_time": "2025-09-19T20:54:06.984876Z"
    }
   },
   "cell_type": "code",
   "source": [
    "fun multiplyByTwo(x: Int): Int {\n",
    "    println(\"$x is multiplied by two is :\")\n",
    "    return x * 2\n",
    "}\n",
    "\n",
    "val resut = multiplyByTwo(4)\n",
    "println(resut)"
   ],
   "outputs": [
    {
     "name": "stdout",
     "output_type": "stream",
     "text": [
      "4 is multiplied by two is :\n",
      "8\n"
     ]
    }
   ],
   "execution_count": 4
  },
  {
   "metadata": {
    "ExecuteTime": {
     "end_time": "2025-09-21T12:38:54.051733Z",
     "start_time": "2025-09-21T12:38:53.991896Z"
    }
   },
   "cell_type": "code",
   "source": [
    "fun isOpen(hour: Int) {\n",
    "    val open = 8\n",
    "    val closed = 17\n",
    "    println(\"Opening time from $open to $closed \")\n",
    "    val status = if(hour > open && hour < closed) true else false\n",
    "    println(\"Open: $status\")\n",
    "}\n",
    "\n",
    "isOpen(14)"
   ],
   "outputs": [
    {
     "name": "stdout",
     "output_type": "stream",
     "text": [
      "Opening time from 8 to 17 \n",
      "Open: true\n"
     ]
    }
   ],
   "execution_count": 5
  },
  {
   "metadata": {
    "ExecuteTime": {
     "end_time": "2025-09-21T12:52:35.119277Z",
     "start_time": "2025-09-21T12:52:35.053548Z"
    }
   },
   "cell_type": "code",
   "source": [
    "fun condition(i: Int) = i < 100 // [1]\n",
    "    var i = 0\n",
    "    while (condition(i)) { // [2]\n",
    "        print(\".\")\n",
    "                i += 10 // [3]\n",
    "    }"
   ],
   "outputs": [
    {
     "name": "stdout",
     "output_type": "stream",
     "text": [
      ".........."
     ]
    }
   ],
   "execution_count": 8
  },
  {
   "metadata": {
    "ExecuteTime": {
     "end_time": "2025-09-21T12:58:35.108568Z",
     "start_time": "2025-09-21T12:58:35.044804Z"
    }
   },
   "cell_type": "code",
   "source": [
    "var n = 10\n",
    "val m = 2\n",
    "println(n)\n",
    "\n",
    "while(n > m) {\n",
    "    n -= m\n",
    "    println(\" - $n \")\n",
    "}\n",
    "println(\" = $n \")"
   ],
   "outputs": [
    {
     "name": "stdout",
     "output_type": "stream",
     "text": [
      "10\n",
      " - 8 \n",
      " - 6 \n",
      " - 4 \n",
      " - 2 \n",
      " = 2 \n"
     ]
    }
   ],
   "execution_count": 11
  },
  {
   "metadata": {
    "ExecuteTime": {
     "end_time": "2025-09-21T13:00:59.295734Z",
     "start_time": "2025-09-21T13:00:59.258617Z"
    }
   },
   "cell_type": "code",
   "source": [
    "var i = 0\n",
    "while(i < 6) {\n",
    "    i++\n",
    "    println(\"$i\")\n",
    "}"
   ],
   "outputs": [
    {
     "name": "stdout",
     "output_type": "stream",
     "text": [
      "1\n",
      "2\n",
      "3\n",
      "4\n",
      "5\n",
      "6\n"
     ]
    }
   ],
   "execution_count": 14
  },
  {
   "metadata": {
    "ExecuteTime": {
     "end_time": "2025-09-21T13:03:38.311261Z",
     "start_time": "2025-09-21T13:03:38.279307Z"
    }
   },
   "cell_type": "code",
   "source": [
    "var i = 11\n",
    "do {\n",
    "    i++\n",
    "    println(\".\")\n",
    "} while(i < 10)"
   ],
   "outputs": [
    {
     "name": "stdout",
     "output_type": "stream",
     "text": [
      ".\n"
     ]
    }
   ],
   "execution_count": 17
  },
  {
   "metadata": {},
   "cell_type": "markdown",
   "source": "### Difference between while and do while loops are. While loop's is executed when the condition is met at first otherwise it just does not start ! Meanwhile do while loop's body is executed first once despite the while condition is true or false."
  },
  {
   "metadata": {
    "ExecuteTime": {
     "end_time": "2025-09-22T11:07:21.195139Z",
     "start_time": "2025-09-22T11:07:20.969633Z"
    }
   },
   "cell_type": "code",
   "source": [
    "fun showRange(r: IntProgression) {\n",
    "    for(i in r) {\n",
    "        println(\"$i \")\n",
    "    }\n",
    "    println(\"$r \")\n",
    "    println()\n",
    "}\n",
    "showRange(1..5)\n",
    "showRange(0 until 5)\n",
    "showRange(5 downTo 1)\n",
    "showRange(0..9 step 2)\n",
    "showRange(0 until 10 step 3)"
   ],
   "outputs": [
    {
     "name": "stdout",
     "output_type": "stream",
     "text": [
      "1 \n",
      "2 \n",
      "3 \n",
      "4 \n",
      "5 \n",
      "1..5 \n",
      "\n",
      "0 \n",
      "1 \n",
      "2 \n",
      "3 \n",
      "4 \n",
      "0..4 \n",
      "\n",
      "5 \n",
      "4 \n",
      "3 \n",
      "2 \n",
      "1 \n",
      "5 downTo 1 step 1 \n",
      "\n",
      "0 \n",
      "2 \n",
      "4 \n",
      "6 \n",
      "8 \n",
      "0..8 step 2 \n",
      "\n",
      "0 \n",
      "3 \n",
      "6 \n",
      "9 \n",
      "0..9 step 3 \n",
      "\n"
     ]
    }
   ],
   "execution_count": 1
  },
  {
   "metadata": {
    "ExecuteTime": {
     "end_time": "2025-09-22T11:14:49.500293Z",
     "start_time": "2025-09-22T11:14:49.426337Z"
    }
   },
   "cell_type": "code",
   "source": [
    "for(j in 'a'..'z' ) {\n",
    "    println(\"$j\")\n",
    "}\n",
    "\n"
   ],
   "outputs": [
    {
     "name": "stdout",
     "output_type": "stream",
     "text": [
      "a\n",
      "b\n",
      "c\n",
      "d\n",
      "e\n",
      "f\n",
      "g\n",
      "h\n",
      "i\n",
      "j\n",
      "k\n",
      "l\n",
      "m\n",
      "n\n",
      "o\n",
      "p\n",
      "q\n",
      "r\n",
      "s\n",
      "t\n",
      "u\n",
      "v\n",
      "w\n",
      "x\n",
      "y\n",
      "z\n"
     ]
    }
   ],
   "execution_count": 2
  }
 ],
 "metadata": {
  "kernelspec": {
   "display_name": "Kotlin",
   "language": "kotlin",
   "name": "kotlin"
  },
  "language_info": {
   "name": "kotlin",
   "version": "2.2.20-Beta2",
   "mimetype": "text/x-kotlin",
   "file_extension": ".kt",
   "pygments_lexer": "kotlin",
   "codemirror_mode": "text/x-kotlin",
   "nbconvert_exporter": ""
  }
 },
 "nbformat": 4,
 "nbformat_minor": 0
}
