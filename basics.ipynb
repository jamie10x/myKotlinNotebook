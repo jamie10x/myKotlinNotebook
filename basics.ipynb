{
 "cells": [
  {
   "metadata": {},
   "cell_type": "markdown",
   "source": "# Kotlin has several built-in data types, including:\n"
  },
  {
   "metadata": {
    "ExecuteTime": {
     "end_time": "2025-09-19T20:47:57.860813Z",
     "start_time": "2025-09-19T20:47:57.772064Z"
    }
   },
   "cell_type": "code",
   "source": [
    "val whole: Int = 10\n",
    "val fractional: Double = 10.1\n",
    "val words: String = \"My name is Jamie\"\n",
    "val trureOrFalse: Boolean = true\n",
    "val cahracter: Char = 'J'\n",
    "val multilineText: String = \"\"\"\n",
    "    This is a\n",
    "    multiline\n",
    "    string.\n",
    "\"\"\".trimIndent()\n",
    "println(\"Int: $whole, Double: $freactitional, String: $words, Boolean: $trureOrFalse, Char: $cahracter\")\n",
    "println(multilineText)"
   ],
   "outputs": [
    {
     "name": "stdout",
     "output_type": "stream",
     "text": [
      "Int: 10, Double: 10.1, String: My name is Jamie, Boolean: true, Char: J\n",
      "This is a\n",
      "multiline\n",
      "string.\n"
     ]
    }
   ],
   "execution_count": 2
  },
  {
   "metadata": {
    "ExecuteTime": {
     "end_time": "2025-09-19T20:48:14.731747Z",
     "start_time": "2025-09-19T20:48:14.676352Z"
    }
   },
   "cell_type": "code",
   "source": [
    "val n = whole + fractional\n",
    "println(n)"
   ],
   "outputs": [
    {
     "name": "stdout",
     "output_type": "stream",
     "text": [
      "20.1\n"
     ]
    }
   ],
   "execution_count": 3
  },
  {
   "metadata": {},
   "cell_type": "markdown",
   "source": "## A function is like a small program that has its own name, and can be executed (invoked) by calling that name from another function."
  },
  {
   "metadata": {
    "ExecuteTime": {
     "end_time": "2025-09-19T20:54:07.050923Z",
     "start_time": "2025-09-19T20:54:06.984876Z"
    }
   },
   "cell_type": "code",
   "source": [
    "fun multiplyByTwo(x: Int): Int {\n",
    "    println(\"$x is multiplied by two is :\")\n",
    "    return x * 2\n",
    "}\n",
    "\n",
    "val resut = multiplyByTwo(4)\n",
    "println(resut)"
   ],
   "outputs": [
    {
     "name": "stdout",
     "output_type": "stream",
     "text": [
      "4 is multiplied by two is :\n",
      "8\n"
     ]
    }
   ],
   "execution_count": 4
  },
  {
   "metadata": {},
   "cell_type": "code",
   "outputs": [],
   "execution_count": null,
   "source": [
    "fun isOpen(hour: Int) {\n",
    "    val open = 8\n",
    "    val closed = 17\n",
    "    println(\"Opening time from $open  \")\n",
    "\n",
    "}"
   ]
  }
 ],
 "metadata": {
  "kernelspec": {
   "display_name": "Kotlin",
   "language": "kotlin",
   "name": "kotlin"
  },
  "language_info": {
   "name": "kotlin",
   "version": "2.2.20-Beta2",
   "mimetype": "text/x-kotlin",
   "file_extension": ".kt",
   "pygments_lexer": "kotlin",
   "codemirror_mode": "text/x-kotlin",
   "nbconvert_exporter": ""
  }
 },
 "nbformat": 4,
 "nbformat_minor": 0
}
