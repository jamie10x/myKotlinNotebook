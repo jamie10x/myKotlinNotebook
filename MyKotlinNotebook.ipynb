{
 "cells": [
  {
   "metadata": {
    "ExecuteTime": {
     "end_time": "2025-09-19T13:02:14.480393Z",
     "start_time": "2025-09-19T13:02:14.406342Z"
    }
   },
   "cell_type": "code",
   "source": [
    "var name =  \"Jamie\"\n",
    "val age = 25\n",
    "val height = 5.9\n",
    "val isStudent = true\n",
    "val grades = listOf(90, 85, 88, 92)\n",
    "val address = mapOf(\"street\" to \"123 Main St\", \"city\" to \"Springfield\", \"zip\" to \"12345\")\n",
    "println(\"My name is: $name, Age is : $age, Height: $height, Student: $isStudent\")"
   ],
   "outputs": [
    {
     "name": "stdout",
     "output_type": "stream",
     "text": [
      "My name is: Jamie, Age is : 25, Height: 5.9, Student: true\n"
     ]
    }
   ],
   "execution_count": 5
  },
  {
   "metadata": {},
   "cell_type": "code",
   "outputs": [],
   "execution_count": null,
   "source": ""
  }
 ],
 "metadata": {
  "kernelspec": {
   "display_name": "Kotlin",
   "language": "kotlin",
   "name": "kotlin"
  },
  "language_info": {
   "name": "kotlin",
   "version": "2.2.20-Beta2",
   "mimetype": "text/x-kotlin",
   "file_extension": ".kt",
   "pygments_lexer": "kotlin",
   "codemirror_mode": "text/x-kotlin",
   "nbconvert_exporter": ""
  }
 },
 "nbformat": 4,
 "nbformat_minor": 0
}
